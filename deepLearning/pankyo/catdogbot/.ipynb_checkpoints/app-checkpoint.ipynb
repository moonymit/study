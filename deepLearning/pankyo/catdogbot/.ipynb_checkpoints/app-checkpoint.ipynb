{
 "cells": [
  {
   "cell_type": "code",
   "execution_count": 8,
   "metadata": {},
   "outputs": [
    {
     "name": "stdout",
     "output_type": "stream",
     "text": [
      "INFO:tensorflow:Restoring parameters from /Users/Hi.JiGOO/Documents/study/deepLearning/pankyo/catdogbot/data/dogsvscats-0.001-2conv-basic.model\n",
      "model loaded!\n"
     ]
    }
   ],
   "source": [
    "from flask import Flask\n",
    "from flask import request\n",
    "from flask import jsonify\n",
    "\n",
    "import requests\n",
    "import numpy as np\n",
    "import matplotlib.pyplot as plt\n",
    "\n",
    "from PIL import Image\n",
    "import urllib.request\n",
    "import io\n",
    "import cv2\n",
    "\n",
    "from CatDogModel import CatDogModel\n",
    "\n",
    "TEST = True;\n",
    "IMG_SIZE = 50\n",
    "\n",
    "app = Flask(__name__)\n",
    "cat_dog_model = CatDogModel()\n",
    "\n",
    "def image_from_url(image_url):\n",
    "    f = io.BytesIO(urllib.request.urlopen(image_url).read())\n",
    "    img = Image.open(f)\n",
    "    return img\n",
    "\n",
    "def gray_image_from_url(image):\n",
    "    image = np.array(image)\n",
    "    image = cv2.cvtColor(image, cv2.COLOR_BGR2GRAY)\n",
    "    image = cv2.resize(image, (IMG_SIZE,IMG_SIZE))\n",
    "    return np.array(image)\n",
    "\n",
    "# TEST\n",
    "if TEST :\n",
    "    image = image_from_url('https://encrypted-tbn0.gstatic.com/images?q=tbn:ANd9GcTNDJerebYjU3S4HUgWYwDAN1MSq0R8ARqGIjP4NQyDfN885fXt')\n",
    "    image = gray_image_from_url(image);\n",
    "    out = cat_dog_model.predict(image)\n",
    "\n",
    "    plt.imshow(image, cmap='gray')\n",
    "    plt.show()\n",
    "\n",
    "    print(out)\n",
    "#\n",
    "\n",
    "@app.route('/')\n",
    "def hello_world():\n",
    "    return 'Hello World!'\n",
    "\n",
    "@app.route('/webhook', methods=['POST'])\n",
    "def webhook():\n",
    "    dataDict = request.get_json()\n",
    "    image_url = dataDict['result']['parameters']['coin-type'];\n",
    "    \n",
    "    image = image_from_url(image_url)\n",
    "    image = gray_image_from_url(image);\n",
    "    plt.imshow(image, cmap='gray')\n",
    "    plt.show()\n",
    "\n",
    "    predict = cat_dog_model.predict(image)\n",
    "    print(predict)\n",
    "\n",
    "    return jsonify({\n",
    "        'speech': predict,\n",
    "        'displayText': 'Dog or Cat result!',\n",
    "    }), 200\n",
    "\n",
    "\n",
    "if __name__ == '__main__':\n",
    "    app.run(host='0.0.0.0', port=80)"
   ]
  },
  {
   "cell_type": "code",
   "execution_count": null,
   "metadata": {
    "collapsed": true
   },
   "outputs": [],
   "source": []
  }
 ],
 "metadata": {
  "kernelspec": {
   "display_name": "Python 3",
   "language": "python",
   "name": "python3"
  },
  "language_info": {
   "codemirror_mode": {
    "name": "ipython",
    "version": 3
   },
   "file_extension": ".py",
   "mimetype": "text/x-python",
   "name": "python",
   "nbconvert_exporter": "python",
   "pygments_lexer": "ipython3",
   "version": "3.6.1"
  }
 },
 "nbformat": 4,
 "nbformat_minor": 2
}
