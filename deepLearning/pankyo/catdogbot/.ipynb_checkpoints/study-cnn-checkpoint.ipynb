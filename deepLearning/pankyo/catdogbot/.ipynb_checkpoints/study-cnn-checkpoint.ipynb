{
 "cells": [
  {
   "cell_type": "code",
   "execution_count": 2,
   "metadata": {},
   "outputs": [],
   "source": [
    "import tensorflow as tf"
   ]
  },
  {
   "cell_type": "code",
   "execution_count": 3,
   "metadata": {
    "collapsed": true
   },
   "outputs": [],
   "source": [
    "# input data batch\n",
    "input_batch = tf.constant([\n",
    "    [\n",
    "        [[0.0], [1.0]],\n",
    "        [[2.0], [3.0]]\n",
    "    ],\n",
    "    [\n",
    "        [[2.0], [4.0]],\n",
    "        [[6.0], [8.0]]\n",
    "    ]\n",
    "])"
   ]
  },
  {
   "cell_type": "code",
   "execution_count": 4,
   "metadata": {
    "collapsed": true
   },
   "outputs": [],
   "source": [
    "# kernel\n",
    "kernel = tf.constant([\n",
    "    [\n",
    "        [[1.0, 2.0]]\n",
    "    ]\n",
    "])"
   ]
  },
  {
   "cell_type": "code",
   "execution_count": 5,
   "metadata": {
    "collapsed": true
   },
   "outputs": [],
   "source": [
    "# convolutaion layer\n",
    "conv2d = tf.nn.conv2d(input_batch, kernel, strides=[1, 1, 1, 1], padding='SAME')"
   ]
  },
  {
   "cell_type": "code",
   "execution_count": 7,
   "metadata": {},
   "outputs": [
    {
     "data": {
      "text/plain": [
       "array([[[[  0.,   0.],\n",
       "         [  1.,   2.]],\n",
       "\n",
       "        [[  2.,   4.],\n",
       "         [  3.,   6.]]],\n",
       "\n",
       "\n",
       "       [[[  2.,   4.],\n",
       "         [  4.,   8.]],\n",
       "\n",
       "        [[  6.,  12.],\n",
       "         [  8.,  16.]]]], dtype=float32)"
      ]
     },
     "execution_count": 7,
     "metadata": {},
     "output_type": "execute_result"
    }
   ],
   "source": [
    "sess = tf.Session()\n",
    "sess.run(conv2d)"
   ]
  },
  {
   "cell_type": "code",
   "execution_count": 12,
   "metadata": {},
   "outputs": [
    {
     "name": "stdout",
     "output_type": "stream",
     "text": [
      "[[[[ 0.5         0.5       ]\n",
      "   [ 0.7310586   0.88079703]]\n",
      "\n",
      "  [[ 0.88079703  0.98201376]\n",
      "   [ 0.95257413  0.99752742]]]\n",
      "\n",
      "\n",
      " [[[ 0.88079703  0.98201376]\n",
      "   [ 0.98201376  0.99966466]]\n",
      "\n",
      "  [[ 0.99752742  0.9999938 ]\n",
      "   [ 0.99966466  0.99999988]]]]\n"
     ]
    }
   ],
   "source": [
    "activation_map = sess.run(tf.minimum(tf.nn.sigmoid(conv2d), 255))\n",
    "print(activation_map)"
   ]
  },
  {
   "cell_type": "code",
   "execution_count": 17,
   "metadata": {},
   "outputs": [
    {
     "name": "stdout",
     "output_type": "stream",
     "text": [
      "[1, 1, 1, 2]\n"
     ]
    }
   ],
   "source": [
    "kernel_shape = kernel.get_shape();\n",
    "kernel_shape = kernel_shape.as_list()\n",
    "print(kernel_shape)"
   ]
  },
  {
   "cell_type": "code",
   "execution_count": null,
   "metadata": {},
   "outputs": [],
   "source": []
  },
  {
   "cell_type": "code",
   "execution_count": null,
   "metadata": {
    "collapsed": true
   },
   "outputs": [],
   "source": []
  }
 ],
 "metadata": {
  "kernelspec": {
   "display_name": "Python 3",
   "language": "python",
   "name": "python3"
  },
  "language_info": {
   "codemirror_mode": {
    "name": "ipython",
    "version": 3
   },
   "file_extension": ".py",
   "mimetype": "text/x-python",
   "name": "python",
   "nbconvert_exporter": "python",
   "pygments_lexer": "ipython3",
   "version": "3.6.1"
  }
 },
 "nbformat": 4,
 "nbformat_minor": 2
}
