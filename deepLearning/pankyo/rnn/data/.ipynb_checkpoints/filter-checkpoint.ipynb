{
 "cells": [
  {
   "cell_type": "code",
   "execution_count": 6,
   "metadata": {},
   "outputs": [],
   "source": [
    "import csv\n",
    "                \n",
    "fin = open(r\"bitcoin_ticker.csv\", 'r');\n",
    "fout = open(r\"bitcoin_ticker_eth_krw.csv\",'w');\n",
    "\n",
    "reader = csv.reader(fin, delimiter=',')\n",
    "filtered = filter(lambda p: 'btc_krw' == p[3], reader)\n",
    "\n",
    "csv.writer(fout, delimiter=',').writerows(filtered)"
   ]
  },
  {
   "cell_type": "code",
   "execution_count": 7,
   "metadata": {},
   "outputs": [],
   "source": [
    "\n",
    "fin = open(r\"bitcoin_ticker_eth_krw.csv\",'r');\n",
    "fout = open(r\"bitcoin_ticker_eth_krw_hour.csv\",'w');\n",
    "\n",
    "reader = csv.reader(fin, delimiter=',')\n",
    "filtered = filter(lambda p: \":00:00\" in p[1], reader)\n",
    "\n",
    "csv.writer(fout, delimiter=',').writerows(filtered)"
   ]
  },
  {
   "cell_type": "code",
   "execution_count": null,
   "metadata": {
    "collapsed": true
   },
   "outputs": [],
   "source": []
  }
 ],
 "metadata": {
  "kernelspec": {
   "display_name": "Python 3",
   "language": "python",
   "name": "python3"
  },
  "language_info": {
   "codemirror_mode": {
    "name": "ipython",
    "version": 3
   },
   "file_extension": ".py",
   "mimetype": "text/x-python",
   "name": "python",
   "nbconvert_exporter": "python",
   "pygments_lexer": "ipython3",
   "version": "3.6.1"
  }
 },
 "nbformat": 4,
 "nbformat_minor": 2
}
