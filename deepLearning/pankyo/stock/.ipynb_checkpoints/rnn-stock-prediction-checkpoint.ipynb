{
 "cells": [
  {
   "cell_type": "code",
   "execution_count": 1,
   "metadata": {
    "collapsed": true
   },
   "outputs": [],
   "source": [
    "import tensorflow as tf\n",
    "import numpy as np\n",
    "import matplotlib\n",
    "import os\n",
    "import matplotlib.pyplot as plt\n",
    "\n",
    "tf.set_random_seed(777)\n",
    "\n",
    "#Min Max Normalization\n",
    "def MinMaxScaler(data):\n",
    "    numerator = data - np.min(data, 0)\n",
    "    denominator = np.max(data, 0) - np.min(data, 0)\n",
    "    return numerator / (denominator + 1e-7)"
   ]
  },
  {
   "cell_type": "code",
   "execution_count": 2,
   "metadata": {},
   "outputs": [
    {
     "name": "stdout",
     "output_type": "stream",
     "text": [
      "['last' 'bid' 'ask' 'low' 'high' 'volume']\n",
      "[[ 0.52493075  0.37053353  0.52463567  0.60770975  0.54615385  0.32157781]\n",
      " [ 0.59141274  0.41752325  0.59333796  0.60770975  0.52820513  0.32015694]]\n",
      "[[ 0.52493075]\n",
      " [ 0.59141274]]\n"
     ]
    }
   ],
   "source": [
    "# train Parameters\n",
    "seq_length = 7\n",
    "data_dim = 6\n",
    "hidden_dim = 10\n",
    "output_dim = 1\n",
    "learning_rate = 0.01\n",
    "\n",
    "# bid ask low high volume\n",
    "xy = np.genfromtxt('./data/bitcoin_ticker_eth_krw_hour.csv', delimiter=',', dtype=np.str)[:,[4,7,8,9,10,11]]\n",
    "print(xy[0])\n",
    "\n",
    "xy = xy[1:].astype(np.float)\n",
    "xy = MinMaxScaler(xy[1:]) #normalize\n",
    "x = xy[:]\n",
    "y = xy[:,[0]]\n",
    "print(x[:2])\n",
    "print(y[:2])\n"
   ]
  },
  {
   "cell_type": "code",
   "execution_count": 3,
   "metadata": {},
   "outputs": [
    {
     "name": "stdout",
     "output_type": "stream",
     "text": [
      "[[ 0.52493075  0.37053353  0.52463567  0.60770975  0.54615385  0.32157781]\n",
      " [ 0.59141274  0.41752325  0.59333796  0.60770975  0.52820513  0.32015694]\n",
      " [ 0.55817175  0.39402839  0.57321305  0.60770975  0.52820513  0.32937215]\n",
      " [ 0.60249307  0.39255996  0.59750173  0.60770975  0.52820513  0.33856945]\n",
      " [ 0.50069252  0.35340186  0.50104094  0.60770975  0.52820513  0.34429369]\n",
      " [ 0.51385042  0.35829662  0.50728661  0.60770975  0.52820513  0.35179124]\n",
      " [ 0.47368421  0.33431229  0.48507981  0.60770975  0.51623932  0.34650965]] -> [ 0.48268698]\n",
      "[[ 0.59141274  0.41752325  0.59333796  0.60770975  0.52820513  0.32015694]\n",
      " [ 0.55817175  0.39402839  0.57321305  0.60770975  0.52820513  0.32937215]\n",
      " [ 0.60249307  0.39255996  0.59750173  0.60770975  0.52820513  0.33856945]\n",
      " [ 0.50069252  0.35340186  0.50104094  0.60770975  0.52820513  0.34429369]\n",
      " [ 0.51385042  0.35829662  0.50728661  0.60770975  0.52820513  0.35179124]\n",
      " [ 0.47368421  0.33431229  0.48507981  0.60770975  0.51623932  0.34650965]\n",
      " [ 0.48268698  0.33969652  0.48160999  0.60770975  0.48717949  0.33841812]] -> [ 0.47437673]\n"
     ]
    }
   ],
   "source": [
    "# build a dataset\n",
    "dataX = []\n",
    "dataY = []\n",
    "for i in range(0, len(y) - seq_length):\n",
    "    _x = x[i:i + seq_length]\n",
    "    _y = y[i + seq_length]  # Next last price\n",
    "    if i < 2 : print(_x, \"->\", _y)\n",
    "    dataX.append(_x)\n",
    "    dataY.append(_y)"
   ]
  },
  {
   "cell_type": "code",
   "execution_count": 4,
   "metadata": {},
   "outputs": [
    {
     "name": "stdout",
     "output_type": "stream",
     "text": [
      "[[[ 0.52493075  0.37053353  0.52463567  0.60770975  0.54615385  0.32157781]\n",
      "  [ 0.59141274  0.41752325  0.59333796  0.60770975  0.52820513  0.32015694]\n",
      "  [ 0.55817175  0.39402839  0.57321305  0.60770975  0.52820513  0.32937215]\n",
      "  [ 0.60249307  0.39255996  0.59750173  0.60770975  0.52820513  0.33856945]\n",
      "  [ 0.50069252  0.35340186  0.50104094  0.60770975  0.52820513  0.34429369]\n",
      "  [ 0.51385042  0.35829662  0.50728661  0.60770975  0.52820513  0.35179124]\n",
      "  [ 0.47368421  0.33431229  0.48507981  0.60770975  0.51623932  0.34650965]]\n",
      "\n",
      " [[ 0.59141274  0.41752325  0.59333796  0.60770975  0.52820513  0.32015694]\n",
      "  [ 0.55817175  0.39402839  0.57321305  0.60770975  0.52820513  0.32937215]\n",
      "  [ 0.60249307  0.39255996  0.59750173  0.60770975  0.52820513  0.33856945]\n",
      "  [ 0.50069252  0.35340186  0.50104094  0.60770975  0.52820513  0.34429369]\n",
      "  [ 0.51385042  0.35829662  0.50728661  0.60770975  0.52820513  0.35179124]\n",
      "  [ 0.47368421  0.33431229  0.48507981  0.60770975  0.51623932  0.34650965]\n",
      "  [ 0.48268698  0.33969652  0.48160999  0.60770975  0.48717949  0.33841812]]]\n",
      "[[ 0.48268698]\n",
      " [ 0.47437673]]\n"
     ]
    }
   ],
   "source": [
    "# train/test split\n",
    "train_size = int(len(dataY) * 0.7)\n",
    "test_size = len(dataY) - train_size\n",
    "trainX, testX = np.array(dataX[0:train_size]), np.array(dataX[train_size:len(dataX)])\n",
    "trainY, testY = np.array(dataY[0:train_size]), np.array(dataY[train_size:len(dataY)])\n",
    "\n",
    "print(trainX[:2])\n",
    "print(trainY[:2])"
   ]
  },
  {
   "cell_type": "code",
   "execution_count": 5,
   "metadata": {
    "collapsed": true
   },
   "outputs": [],
   "source": [
    "# input place holders\n",
    "X = tf.placeholder(tf.float32, [None, seq_length, data_dim])\n",
    "Y = tf.placeholder(tf.float32, [None, 1])\n",
    "\n",
    "# build a LSTM network\n",
    "cell = tf.contrib.rnn.BasicLSTMCell(num_units=hidden_dim, state_is_tuple=True, activation=tf.tanh)\n",
    "outputs, _states = tf.nn.dynamic_rnn(cell, X, dtype=tf.float32)\n",
    "# outputs[:, -1] : all batch of data_dim of last seq_length\n",
    "Y_pred = tf.contrib.layers.fully_connected(outputs[:, -1], output_dim, activation_fn=None)  # We use the last cell's output\n",
    "\n",
    "# cost/loss\n",
    "loss = tf.reduce_sum(tf.square(Y_pred - Y))  # sum of the squares\n",
    "\n",
    "# optimizer\n",
    "optimizer = tf.train.AdamOptimizer(learning_rate)\n",
    "train = optimizer.minimize(loss)\n"
   ]
  },
  {
   "cell_type": "code",
   "execution_count": 14,
   "metadata": {},
   "outputs": [
    {
     "name": "stdout",
     "output_type": "stream",
     "text": [
      "[step: 0] loss: 299.5288391113281\n",
      "[step: 1] loss: 130.74591064453125\n",
      "[step: 2] loss: 27.271921157836914\n",
      "[step: 3] loss: 5.5228776931762695\n",
      "[step: 4] loss: 45.09050369262695\n",
      "[step: 5] loss: 72.47078704833984\n",
      "[step: 6] loss: 67.3150634765625\n",
      "[step: 7] loss: 45.66120910644531\n",
      "[step: 8] loss: 23.32831382751465\n",
      "[step: 9] loss: 8.79640007019043\n",
      "[step: 10] loss: 3.8810875415802\n",
      "[step: 11] loss: 6.26019811630249\n",
      "[step: 12] loss: 12.134310722351074\n",
      "[step: 13] loss: 18.09347152709961\n",
      "[step: 14] loss: 21.959726333618164\n",
      "[step: 15] loss: 22.877046585083008\n",
      "[step: 16] loss: 21.03025245666504\n",
      "[step: 17] loss: 17.259841918945312\n",
      "[step: 18] loss: 12.697066307067871\n",
      "[step: 19] loss: 8.45733642578125\n",
      "[step: 20] loss: 5.401628494262695\n",
      "[step: 21] loss: 3.975656270980835\n",
      "[step: 22] loss: 4.147088527679443\n",
      "[step: 23] loss: 5.4609785079956055\n",
      "[step: 24] loss: 7.209936618804932\n",
      "[step: 25] loss: 8.674379348754883\n",
      "[step: 26] loss: 9.34865665435791\n",
      "[step: 27] loss: 9.069374084472656\n",
      "[step: 28] loss: 8.007187843322754\n",
      "[step: 29] loss: 6.548373222351074\n",
      "[step: 30] loss: 5.129652976989746\n",
      "[step: 31] loss: 4.093629837036133\n",
      "[step: 32] loss: 3.6056549549102783\n",
      "[step: 33] loss: 3.6425139904022217\n",
      "[step: 34] loss: 4.0385026931762695\n",
      "[step: 35] loss: 4.56139612197876\n",
      "[step: 36] loss: 4.990437984466553\n",
      "[step: 37] loss: 5.17497444152832\n",
      "[step: 38] loss: 5.062978267669678\n",
      "[step: 39] loss: 4.698537826538086\n",
      "[step: 40] loss: 4.1941351890563965\n",
      "[step: 41] loss: 3.6885757446289062\n",
      "[step: 42] loss: 3.302856683731079\n",
      "[step: 43] loss: 3.105860948562622\n",
      "[step: 44] loss: 3.098839521408081\n",
      "[step: 45] loss: 3.222752571105957\n",
      "[step: 46] loss: 3.3846349716186523\n",
      "[step: 47] loss: 3.4932522773742676\n",
      "[step: 48] loss: 3.4905898571014404\n",
      "[step: 49] loss: 3.3678572177886963\n",
      "[step: 50] loss: 3.1616156101226807\n",
      "[step: 51] loss: 2.9337403774261475\n",
      "[step: 52] loss: 2.744961977005005\n",
      "[step: 53] loss: 2.6329293251037598\n",
      "[step: 54] loss: 2.6021432876586914\n",
      "[step: 55] loss: 2.6275856494903564\n",
      "[step: 56] loss: 2.6685564517974854\n",
      "[step: 57] loss: 2.686028003692627\n",
      "[step: 58] loss: 2.6567063331604004\n",
      "[step: 59] loss: 2.5792858600616455\n",
      "[step: 60] loss: 2.471679925918579\n",
      "[step: 61] loss: 2.3613173961639404\n",
      "[step: 62] loss: 2.2732417583465576\n",
      "[step: 63] loss: 2.220392942428589\n",
      "[step: 64] loss: 2.200026512145996\n",
      "[step: 65] loss: 2.196916103363037\n",
      "[step: 66] loss: 2.1914567947387695\n",
      "[step: 67] loss: 2.1686623096466064\n",
      "[step: 68] loss: 2.1240196228027344\n",
      "[step: 69] loss: 2.0639421939849854\n",
      "[step: 70] loss: 2.001335859298706\n",
      "[step: 71] loss: 1.9487930536270142\n",
      "[step: 72] loss: 1.912895679473877\n",
      "[step: 73] loss: 1.892124056816101\n",
      "[step: 74] loss: 1.8787519931793213\n",
      "[step: 75] loss: 1.863318920135498\n",
      "[step: 76] loss: 1.8392622470855713\n",
      "[step: 77] loss: 1.8055585622787476\n",
      "[step: 78] loss: 1.7663722038269043\n",
      "[step: 79] loss: 1.728234887123108\n",
      "[step: 80] loss: 1.6965562105178833\n",
      "[step: 81] loss: 1.6730611324310303\n",
      "[step: 82] loss: 1.6555026769638062\n",
      "[step: 83] loss: 1.639346957206726\n",
      "[step: 84] loss: 1.6204739809036255\n",
      "[step: 85] loss: 1.5972435474395752\n",
      "[step: 86] loss: 1.5709760189056396\n",
      "[step: 87] loss: 1.544795036315918\n",
      "[step: 88] loss: 1.5216566324234009\n",
      "[step: 89] loss: 1.5027337074279785\n",
      "[step: 90] loss: 1.4870322942733765\n",
      "[step: 91] loss: 1.4722671508789062\n",
      "[step: 92] loss: 1.456282138824463\n",
      "[step: 93] loss: 1.4382580518722534\n",
      "[step: 94] loss: 1.418915867805481\n",
      "[step: 95] loss: 1.3998923301696777\n",
      "[step: 96] loss: 1.3826267719268799\n",
      "[step: 97] loss: 1.3675552606582642\n",
      "[step: 98] loss: 1.3540027141571045\n",
      "[step: 99] loss: 1.3407528400421143\n"
     ]
    },
    {
     "data": {
      "image/png": "[encoded data removed]",
      "text/plain": [
       "<matplotlib.figure.Figure at 0x11fa334a8>"
      ]
     },
     "metadata": {},
     "output_type": "display_data"
    }
   ],
   "source": [
    "# train Parameters\n",
    "iterations = 200\n",
    "\n",
    "with tf.Session() as sess:\n",
    "    sess.run(tf.global_variables_initializer())\n",
    "    \n",
    "    # Training step\n",
    "    for i in range(iterations):\n",
    "        _, step_loss = sess.run([train, loss], feed_dict={X: trainX, Y: trainY})\n",
    "        print(\"[step: {}] loss: {}\".format(i, step_loss))\n",
    "#         print(sess.run(outputs[:, -1], feed_dict={X: trainX, Y: trainY}))\n",
    "        \n",
    "    # Test step\n",
    "    test_predict = sess.run(Y_pred, feed_dict={X: testX})\n",
    "    \n",
    "    # Plot predictions\n",
    "    plt.plot(testY)\n",
    "    plt.plot(test_predict)\n",
    "    plt.xlabel(\"Time Period\")\n",
    "    plt.ylabel(\"Stock Price\")\n",
    "    plt.show()"
   ]
  },
  {
   "cell_type": "code",
   "execution_count": null,
   "metadata": {
    "collapsed": true
   },
   "outputs": [],
   "source": []
  }
 ],
 "metadata": {
  "kernelspec": {
   "display_name": "Python 3",
   "language": "python",
   "name": "python3"
  },
  "language_info": {
   "codemirror_mode": {
    "name": "ipython",
    "version": 3
   },
   "file_extension": ".py",
   "mimetype": "text/x-python",
   "name": "python",
   "nbconvert_exporter": "python",
   "pygments_lexer": "ipython3",
   "version": "3.6.1"
  }
 },
 "nbformat": 4,
 "nbformat_minor": 2
}
