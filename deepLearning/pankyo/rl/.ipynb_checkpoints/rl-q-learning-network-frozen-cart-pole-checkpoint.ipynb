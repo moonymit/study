{
 "cells": [
  {
   "cell_type": "code",
   "execution_count": 1,
   "metadata": {},
   "outputs": [
    {
     "name": "stderr",
     "output_type": "stream",
     "text": [
      "[2017-08-02 23:26:31,167] Making new env: CartPole-v0\n"
     ]
    }
   ],
   "source": [
    "import gym\n",
    "import numpy as np\n",
    "import tensorflow as tf\n",
    "import matplotlib.pyplot as plt\n",
    "\n",
    "env = gym.make('CartPole-v0')\n",
    "\n",
    "# Input and output size based on the Env\n",
    "input_size = env.observation_space.shape[0] # -> 4\n",
    "output_size = env.action_space.n # -> 2(left, right)\n",
    "\n",
    "# Set learning parameters\n",
    "learning_rate = .1\n",
    "\n",
    "X = tf.placeholder(tf.float32, [None, input_size], name=\"input_x\") # None will be 1\n",
    "\n",
    "# First layer of weights\n",
    "W1 = tf.get_variable(\"W1\", shape=[input_size, output_size], initializer=tf.contrib.layers.xavier_initializer())\n",
    "Qpred = tf.matmul(X, W1)\n",
    "\n",
    "# We need to define the parts of the network needed for learning a policy\n",
    "Y = tf.placeholder(shape=[None, output_size], dtype=tf.float32)\n",
    "\n",
    "# Loss function\n",
    "loss = tf.reduce_sum(tf.square(Y - Qpred))\n",
    "\n",
    "# Learning\n",
    "train = tf.train.AdamOptimizer(learning_rate=learning_rate).minimize(loss)\n",
    "\n",
    "# Set Q-learning related parameters\n",
    "dis = .99\n",
    "num_episodes = 2000\n",
    "\n",
    "# Create lists to contain total rewards and steps per episode\n",
    "rList = []\n"
   ]
  },
  {
   "cell_type": "code",
   "execution_count": null,
   "metadata": {
    "collapsed": true
   },
   "outputs": [],
   "source": [
    "init = tf.global_variables_initializer()\n",
    "sess = tf.Session()\n",
    "sess.run(init)\n",
    "\n",
    "sess.run(init)\n",
    "for i in range(num_episodes):\n",
    "    # Reset environment and get first new observation\n",
    "    e = 1. / ((i / 10) + 1)\n",
    "    step_count = 0\n",
    "    s = env.reset()\n",
    "    done = False\n",
    "\n",
    "\n",
    "    # The Q-Network training\n",
    "    while not done:\n",
    "        step_count += 1\n",
    "        x = np.reshape(s, [1, input_size])\n",
    "\n",
    "        # Choose an action by freedily (with e change of random action) from the Q-network\n",
    "        Qs = sess.run(Qpred, feed_dict = {X: x})\n",
    "        if np.random.rand(1) < e:\n",
    "            a = env.action_space.sample()\n",
    "        else:\n",
    "            a = np.argmax(Qs)\n",
    "\n",
    "        # Get new state and reward from environment\n",
    "        s1, reward, done, _ = env.step(a)\n",
    "        if done:\n",
    "            # Update Q, and no Qs+1, since it's terminal state\n",
    "            Qs[0, a] = -100\n",
    "        else:\n",
    "            # Obtain the Q_s1 values by feeding the new state through our network\n",
    "            x1 = np.reshape(s1, [1, input_size])\n",
    "            Qs1 = sess.run(Qpred, feed_dict={X: x1})\n",
    "            \n",
    "            # Update Q\n",
    "            Qs[0, a] = reward + dis * np.max(Qs1)\n",
    "\n",
    "        # Train our network using target (Y) and predicted Q(Qpred) values\n",
    "        sess.run(train, feed_dict={X:x, Y: Qs})\n",
    "        s = s1\n",
    "\n",
    "    rList.append(step_count)\n",
    "    print(\"Episode: {} steps: {}\".format(i, step_count))\n",
    "\n",
    "    # If last 10's avg steps are 500, it's good enough\n",
    "    if len(rList) > 10 and np.mean(rList[-10:]) > 500:\n",
    "        break;\n"
   ]
  },
  {
   "cell_type": "code",
   "execution_count": 4,
   "metadata": {},
   "outputs": [
    {
     "name": "stdout",
     "output_type": "stream",
     "text": [
      "Total score: 27.0\n"
     ]
    }
   ],
   "source": [
    "# See our trained network in action\n",
    "observation = env.reset()\n",
    "reward_sum = 0\n",
    "while True:\n",
    "    env.render()\n",
    "    \n",
    "    x = np.reshape(observation, [1, input_size])\n",
    "    Qs = sess.run(Qpred, feed_dict={X:x})\n",
    "    a = np.argmax(Qs)\n",
    "    \n",
    "    observation, reward, done, _ = env.step(a)\n",
    "    reward_sum += reward\n",
    "    if done:\n",
    "        print(\"Total score: {}\".format(reward_sum))\n",
    "        break"
   ]
  },
  {
   "cell_type": "code",
   "execution_count": null,
   "metadata": {
    "collapsed": true
   },
   "outputs": [],
   "source": []
  }
 ],
 "metadata": {
  "kernelspec": {
   "display_name": "Python 3",
   "language": "python",
   "name": "python3"
  },
  "language_info": {
   "codemirror_mode": {
    "name": "ipython",
    "version": 3
   },
   "file_extension": ".py",
   "mimetype": "text/x-python",
   "name": "python",
   "nbconvert_exporter": "python",
   "pygments_lexer": "ipython3",
   "version": "3.6.1"
  }
 },
 "nbformat": 4,
 "nbformat_minor": 2
}
